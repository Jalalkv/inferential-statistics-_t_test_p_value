{
 "cells": [
  {
   "cell_type": "markdown",
   "id": "f431acf3",
   "metadata": {},
   "source": [
    "Part 1\n",
    "\n",
    "In a packing plant, a machine packs cartons with jars. It is supposed that a new machine will pack faster on the average than the machine currently used. To test that hypothesis, the times it takes each machine to pack ten cartons are recorded. The results are shown in seconds for each machine. Assume that there is sufficient evidence to conduct the t test, does the data provide sufficient evidence to show if one machine is better than the other. \n",
    "Use a one sided t-test"
   ]
  },
  {
   "cell_type": "code",
   "execution_count": 1,
   "id": "f5d7aeba",
   "metadata": {},
   "outputs": [],
   "source": [
    "from scipy import stats\n",
    "import numpy as np\n",
    "import pandas as pd \n",
    "import math "
   ]
  },
  {
   "cell_type": "code",
   "execution_count": 2,
   "id": "45103b30",
   "metadata": {},
   "outputs": [],
   "source": [
    "data = pd.read_csv('/Users/Lenovo/Desktop/machine.csv')"
   ]
  },
  {
   "cell_type": "code",
   "execution_count": 3,
   "id": "4ab5d41e",
   "metadata": {},
   "outputs": [
    {
     "data": {
      "text/html": [
       "<div>\n",
       "<style scoped>\n",
       "    .dataframe tbody tr th:only-of-type {\n",
       "        vertical-align: middle;\n",
       "    }\n",
       "\n",
       "    .dataframe tbody tr th {\n",
       "        vertical-align: top;\n",
       "    }\n",
       "\n",
       "    .dataframe thead th {\n",
       "        text-align: right;\n",
       "    }\n",
       "</style>\n",
       "<table border=\"1\" class=\"dataframe\">\n",
       "  <thead>\n",
       "    <tr style=\"text-align: right;\">\n",
       "      <th></th>\n",
       "      <th>New machine</th>\n",
       "      <th>Old machine</th>\n",
       "    </tr>\n",
       "  </thead>\n",
       "  <tbody>\n",
       "    <tr>\n",
       "      <th>0</th>\n",
       "      <td>42.1</td>\n",
       "      <td>42.7</td>\n",
       "    </tr>\n",
       "    <tr>\n",
       "      <th>1</th>\n",
       "      <td>41.0</td>\n",
       "      <td>43.6</td>\n",
       "    </tr>\n",
       "    <tr>\n",
       "      <th>2</th>\n",
       "      <td>41.3</td>\n",
       "      <td>43.8</td>\n",
       "    </tr>\n",
       "    <tr>\n",
       "      <th>3</th>\n",
       "      <td>41.8</td>\n",
       "      <td>43.3</td>\n",
       "    </tr>\n",
       "    <tr>\n",
       "      <th>4</th>\n",
       "      <td>42.4</td>\n",
       "      <td>42.5</td>\n",
       "    </tr>\n",
       "  </tbody>\n",
       "</table>\n",
       "</div>"
      ],
      "text/plain": [
       "   New machine  Old machine\n",
       "0         42.1         42.7\n",
       "1         41.0         43.6\n",
       "2         41.3         43.8\n",
       "3         41.8         43.3\n",
       "4         42.4         42.5"
      ]
     },
     "execution_count": 3,
     "metadata": {},
     "output_type": "execute_result"
    }
   ],
   "source": [
    "data.head()"
   ]
  },
  {
   "cell_type": "code",
   "execution_count": null,
   "id": "2c8316a1",
   "metadata": {},
   "outputs": [],
   "source": []
  },
  {
   "cell_type": "code",
   "execution_count": 4,
   "id": "906f5446",
   "metadata": {},
   "outputs": [
    {
     "data": {
      "text/html": [
       "<div>\n",
       "<style scoped>\n",
       "    .dataframe tbody tr th:only-of-type {\n",
       "        vertical-align: middle;\n",
       "    }\n",
       "\n",
       "    .dataframe tbody tr th {\n",
       "        vertical-align: top;\n",
       "    }\n",
       "\n",
       "    .dataframe thead th {\n",
       "        text-align: right;\n",
       "    }\n",
       "</style>\n",
       "<table border=\"1\" class=\"dataframe\">\n",
       "  <thead>\n",
       "    <tr style=\"text-align: right;\">\n",
       "      <th></th>\n",
       "      <th>New machine</th>\n",
       "      <th>Old machine</th>\n",
       "    </tr>\n",
       "  </thead>\n",
       "  <tbody>\n",
       "    <tr>\n",
       "      <th>count</th>\n",
       "      <td>10.000000</td>\n",
       "      <td>10.000000</td>\n",
       "    </tr>\n",
       "    <tr>\n",
       "      <th>mean</th>\n",
       "      <td>42.140000</td>\n",
       "      <td>43.230000</td>\n",
       "    </tr>\n",
       "    <tr>\n",
       "      <th>std</th>\n",
       "      <td>0.683455</td>\n",
       "      <td>0.749889</td>\n",
       "    </tr>\n",
       "    <tr>\n",
       "      <th>min</th>\n",
       "      <td>41.000000</td>\n",
       "      <td>41.700000</td>\n",
       "    </tr>\n",
       "    <tr>\n",
       "      <th>25%</th>\n",
       "      <td>41.800000</td>\n",
       "      <td>42.800000</td>\n",
       "    </tr>\n",
       "    <tr>\n",
       "      <th>50%</th>\n",
       "      <td>42.200000</td>\n",
       "      <td>43.400000</td>\n",
       "    </tr>\n",
       "    <tr>\n",
       "      <th>75%</th>\n",
       "      <td>42.625000</td>\n",
       "      <td>43.750000</td>\n",
       "    </tr>\n",
       "    <tr>\n",
       "      <th>max</th>\n",
       "      <td>43.200000</td>\n",
       "      <td>44.100000</td>\n",
       "    </tr>\n",
       "  </tbody>\n",
       "</table>\n",
       "</div>"
      ],
      "text/plain": [
       "       New machine  Old machine\n",
       "count    10.000000    10.000000\n",
       "mean     42.140000    43.230000\n",
       "std       0.683455     0.749889\n",
       "min      41.000000    41.700000\n",
       "25%      41.800000    42.800000\n",
       "50%      42.200000    43.400000\n",
       "75%      42.625000    43.750000\n",
       "max      43.200000    44.100000"
      ]
     },
     "execution_count": 4,
     "metadata": {},
     "output_type": "execute_result"
    }
   ],
   "source": [
    "data.describe()"
   ]
  },
  {
   "cell_type": "code",
   "execution_count": null,
   "id": "657f315e",
   "metadata": {},
   "outputs": [],
   "source": []
  },
  {
   "cell_type": "code",
   "execution_count": 5,
   "id": "af0760d0",
   "metadata": {},
   "outputs": [],
   "source": [
    "# Old_machine = np.array ([42.7, 43.6, 43.8, 43.3, 42.5, 43.5, 43.1, 41.7, 44, 44.1])"
   ]
  },
  {
   "cell_type": "code",
   "execution_count": 6,
   "id": "054b62a1",
   "metadata": {},
   "outputs": [],
   "source": [
    "# New_machine = np.array ([42.1, 41, 41.3, 41.8, 42.4, 42.8, 43.2, 42.3, 41.8, 42.7])        "
   ]
  },
  {
   "cell_type": "code",
   "execution_count": 7,
   "id": "189e1372",
   "metadata": {},
   "outputs": [],
   "source": [
    "# Old_machine.mean()"
   ]
  },
  {
   "cell_type": "code",
   "execution_count": 8,
   "id": "83f5cdc1",
   "metadata": {},
   "outputs": [],
   "source": [
    "# New_machine.mean()"
   ]
  },
  {
   "cell_type": "code",
   "execution_count": 9,
   "id": "626e0855",
   "metadata": {},
   "outputs": [
    {
     "data": {
      "text/plain": [
       "New machine    0.683455\n",
       "Old machine    0.749889\n",
       "dtype: float64"
      ]
     },
     "execution_count": 9,
     "metadata": {},
     "output_type": "execute_result"
    }
   ],
   "source": [
    "data.std()"
   ]
  },
  {
   "cell_type": "code",
   "execution_count": 10,
   "id": "a51c44e8",
   "metadata": {},
   "outputs": [],
   "source": [
    "meanold = data ['Old machine'].mean()"
   ]
  },
  {
   "cell_type": "code",
   "execution_count": 11,
   "id": "ea39191d",
   "metadata": {},
   "outputs": [],
   "source": [
    "meannew = data ['New machine'].mean()"
   ]
  },
  {
   "cell_type": "code",
   "execution_count": 12,
   "id": "a9e9255d",
   "metadata": {},
   "outputs": [],
   "source": [
    "# 10 samples per each machine\n",
    "\n",
    "obs = 20\n",
    "\n",
    "# degrees of freedom 0 (n1+n2) - 2"
   ]
  },
  {
   "cell_type": "markdown",
   "id": "1c6c6a3f",
   "metadata": {},
   "source": [
    "# Define Hypothesis \n",
    "\n",
    "Ho new machine is no faster than old machine\n",
    "\n",
    "Ha new machine is faster than old machine \n",
    "\n",
    "method: 1 tailed t test - referring to the t distirbution to find the cricital area \n",
    "do observations for New fall into the ciritical area AND is the p value less than 0,05"
   ]
  },
  {
   "cell_type": "code",
   "execution_count": null,
   "id": "4830b595",
   "metadata": {},
   "outputs": [],
   "source": []
  },
  {
   "cell_type": "code",
   "execution_count": 13,
   "id": "1a467669",
   "metadata": {},
   "outputs": [],
   "source": [
    "# degrees of freedom\n",
    "dof = obs-2\n",
    "sl = 0.95"
   ]
  },
  {
   "cell_type": "code",
   "execution_count": 14,
   "id": "d419b8c5",
   "metadata": {},
   "outputs": [
    {
     "data": {
      "text/plain": [
       "18"
      ]
     },
     "execution_count": 14,
     "metadata": {},
     "output_type": "execute_result"
    }
   ],
   "source": [
    "dof"
   ]
  },
  {
   "cell_type": "markdown",
   "id": "152bfb45",
   "metadata": {},
   "source": [
    "The PValue describes the probability of the data being in the critical area, Tstatistics describes how much the distribution of the data runs into the critical area\n"
   ]
  },
  {
   "cell_type": "code",
   "execution_count": 15,
   "id": "0da5b224",
   "metadata": {},
   "outputs": [],
   "source": [
    "# looked up the t value - 1.734 (since we are doing left tailed test)"
   ]
  },
  {
   "cell_type": "code",
   "execution_count": 16,
   "id": "69b4cd97",
   "metadata": {},
   "outputs": [
    {
     "data": {
      "text/plain": [
       "1.7340636066175354"
      ]
     },
     "execution_count": 16,
     "metadata": {},
     "output_type": "execute_result"
    }
   ],
   "source": [
    "# define critical value \n",
    "t_critical=stats.t.ppf(sl, dof)\n",
    "t_critical"
   ]
  },
  {
   "cell_type": "markdown",
   "id": "fe7254e0",
   "metadata": {},
   "source": [
    "t statistic and p value test"
   ]
  },
  {
   "cell_type": "code",
   "execution_count": 17,
   "id": "d1ad4454",
   "metadata": {},
   "outputs": [
    {
     "data": {
      "text/plain": [
       "array([42.1, 41. , 41.3, 41.8, 42.4, 42.8, 43.2, 42.3, 41.8, 42.7])"
      ]
     },
     "execution_count": 17,
     "metadata": {},
     "output_type": "execute_result"
    }
   ],
   "source": [
    "# turn dataframe into 2 numpy arrays \n",
    "\n",
    "arrnew=data['New machine'].to_numpy()\n",
    "arrnew"
   ]
  },
  {
   "cell_type": "code",
   "execution_count": 18,
   "id": "1764fe7c",
   "metadata": {},
   "outputs": [
    {
     "data": {
      "text/plain": [
       "array([42.7, 43.6, 43.8, 43.3, 42.5, 43.5, 43.1, 41.7, 44. , 44.1])"
      ]
     },
     "execution_count": 18,
     "metadata": {},
     "output_type": "execute_result"
    }
   ],
   "source": [
    "arrold=data['Old machine'].to_numpy()\n",
    "arrold"
   ]
  },
  {
   "cell_type": "code",
   "execution_count": 19,
   "id": "d6d36385",
   "metadata": {},
   "outputs": [
    {
     "data": {
      "text/plain": [
       "Ttest_indResult(statistic=-3.397230706117603, pvalue=0.0032422494663179747)"
      ]
     },
     "execution_count": 19,
     "metadata": {},
     "output_type": "execute_result"
    }
   ],
   "source": [
    "# calc the t-statistic and p value \n",
    "\n",
    "statistic=stats.ttest_ind(arrnew, arrold, equal_var=False)\n",
    "statistic"
   ]
  },
  {
   "cell_type": "code",
   "execution_count": null,
   "id": "aee87db1",
   "metadata": {},
   "outputs": [],
   "source": [
    "# Result:\n",
    "\n",
    "p value is less than 5% (0.05) and t statistic is lower than the critical value threshold\n",
    "\n",
    "we can conclude that, even with 10 examples used, the new machine is faster than the old machine "
   ]
  }
 ],
 "metadata": {
  "kernelspec": {
   "display_name": "Python 3",
   "language": "python",
   "name": "python3"
  },
  "language_info": {
   "codemirror_mode": {
    "name": "ipython",
    "version": 3
   },
   "file_extension": ".py",
   "mimetype": "text/x-python",
   "name": "python",
   "nbconvert_exporter": "python",
   "pygments_lexer": "ipython3",
   "version": "3.8.8"
  }
 },
 "nbformat": 4,
 "nbformat_minor": 5
}
